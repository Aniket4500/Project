{
 "cells": [
  {
   "cell_type": "markdown",
   "id": "60d0707e",
   "metadata": {},
   "source": [
    "# Global Superstore Orders 2016 Dataset"
   ]
  },
  {
   "cell_type": "code",
   "execution_count": 2,
   "id": "7e89f965",
   "metadata": {},
   "outputs": [],
   "source": [
    "import numpy as np\n",
    "import pandas as pd\n",
    "import matplotlib.pyplot as plt\n",
    "import seaborn as sns\n",
    "\n",
    "import warnings\n",
    "warnings.filterwarnings(\"ignore\")"
   ]
  },
  {
   "cell_type": "code",
   "execution_count": 3,
   "id": "aff3730a",
   "metadata": {},
   "outputs": [
    {
     "data": {
      "text/html": [
       "<div>\n",
       "<style scoped>\n",
       "    .dataframe tbody tr th:only-of-type {\n",
       "        vertical-align: middle;\n",
       "    }\n",
       "\n",
       "    .dataframe tbody tr th {\n",
       "        vertical-align: top;\n",
       "    }\n",
       "\n",
       "    .dataframe thead th {\n",
       "        text-align: right;\n",
       "    }\n",
       "</style>\n",
       "<table border=\"1\" class=\"dataframe\">\n",
       "  <thead>\n",
       "    <tr style=\"text-align: right;\">\n",
       "      <th></th>\n",
       "      <th>Row ID</th>\n",
       "      <th>Order ID</th>\n",
       "      <th>Order Date</th>\n",
       "      <th>Ship Date</th>\n",
       "      <th>Ship Mode</th>\n",
       "      <th>Customer ID</th>\n",
       "      <th>Customer Name</th>\n",
       "      <th>Segment</th>\n",
       "      <th>City</th>\n",
       "      <th>State</th>\n",
       "      <th>...</th>\n",
       "      <th>Market</th>\n",
       "      <th>Product ID</th>\n",
       "      <th>Category</th>\n",
       "      <th>Sub-Category</th>\n",
       "      <th>Product Name</th>\n",
       "      <th>Sales</th>\n",
       "      <th>Quantity</th>\n",
       "      <th>Discount</th>\n",
       "      <th>Profit</th>\n",
       "      <th>Shipping Cost</th>\n",
       "    </tr>\n",
       "  </thead>\n",
       "  <tbody>\n",
       "    <tr>\n",
       "      <th>0</th>\n",
       "      <td>40098</td>\n",
       "      <td>CA-2014-AB10015140-41954</td>\n",
       "      <td>2014-11-11</td>\n",
       "      <td>2014-11-13</td>\n",
       "      <td>First Class</td>\n",
       "      <td>AB-100151402</td>\n",
       "      <td>Aaron Bergman</td>\n",
       "      <td>Consumer</td>\n",
       "      <td>Oklahoma City</td>\n",
       "      <td>Oklahoma</td>\n",
       "      <td>...</td>\n",
       "      <td>USCA</td>\n",
       "      <td>TEC-PH-5816</td>\n",
       "      <td>Technology</td>\n",
       "      <td>Phones</td>\n",
       "      <td>Samsung Convoy 3</td>\n",
       "      <td>221.980</td>\n",
       "      <td>2</td>\n",
       "      <td>0.0</td>\n",
       "      <td>62.1544</td>\n",
       "      <td>40.770</td>\n",
       "    </tr>\n",
       "    <tr>\n",
       "      <th>1</th>\n",
       "      <td>26341</td>\n",
       "      <td>IN-2014-JR162107-41675</td>\n",
       "      <td>2014-02-05</td>\n",
       "      <td>2014-02-07</td>\n",
       "      <td>Second Class</td>\n",
       "      <td>JR-162107</td>\n",
       "      <td>Justin Ritter</td>\n",
       "      <td>Corporate</td>\n",
       "      <td>Wollongong</td>\n",
       "      <td>New South Wales</td>\n",
       "      <td>...</td>\n",
       "      <td>Asia Pacific</td>\n",
       "      <td>FUR-CH-5379</td>\n",
       "      <td>Furniture</td>\n",
       "      <td>Chairs</td>\n",
       "      <td>Novimex Executive Leather Armchair, Black</td>\n",
       "      <td>3709.395</td>\n",
       "      <td>9</td>\n",
       "      <td>0.1</td>\n",
       "      <td>-288.7650</td>\n",
       "      <td>923.630</td>\n",
       "    </tr>\n",
       "    <tr>\n",
       "      <th>2</th>\n",
       "      <td>25330</td>\n",
       "      <td>IN-2014-CR127307-41929</td>\n",
       "      <td>2014-10-17</td>\n",
       "      <td>2014-10-18</td>\n",
       "      <td>First Class</td>\n",
       "      <td>CR-127307</td>\n",
       "      <td>Craig Reiter</td>\n",
       "      <td>Consumer</td>\n",
       "      <td>Brisbane</td>\n",
       "      <td>Queensland</td>\n",
       "      <td>...</td>\n",
       "      <td>Asia Pacific</td>\n",
       "      <td>TEC-PH-5356</td>\n",
       "      <td>Technology</td>\n",
       "      <td>Phones</td>\n",
       "      <td>Nokia Smart Phone, with Caller ID</td>\n",
       "      <td>5175.171</td>\n",
       "      <td>9</td>\n",
       "      <td>0.1</td>\n",
       "      <td>919.9710</td>\n",
       "      <td>915.490</td>\n",
       "    </tr>\n",
       "    <tr>\n",
       "      <th>3</th>\n",
       "      <td>13524</td>\n",
       "      <td>ES-2014-KM1637548-41667</td>\n",
       "      <td>2014-01-28</td>\n",
       "      <td>2014-01-30</td>\n",
       "      <td>First Class</td>\n",
       "      <td>KM-1637548</td>\n",
       "      <td>Katherine Murray</td>\n",
       "      <td>Home Office</td>\n",
       "      <td>Berlin</td>\n",
       "      <td>Berlin</td>\n",
       "      <td>...</td>\n",
       "      <td>Europe</td>\n",
       "      <td>TEC-PH-5267</td>\n",
       "      <td>Technology</td>\n",
       "      <td>Phones</td>\n",
       "      <td>Motorola Smart Phone, Cordless</td>\n",
       "      <td>2892.510</td>\n",
       "      <td>5</td>\n",
       "      <td>0.1</td>\n",
       "      <td>-96.5400</td>\n",
       "      <td>910.160</td>\n",
       "    </tr>\n",
       "    <tr>\n",
       "      <th>4</th>\n",
       "      <td>47221</td>\n",
       "      <td>SG-2014-RH9495111-41948</td>\n",
       "      <td>2014-11-05</td>\n",
       "      <td>2014-11-06</td>\n",
       "      <td>Same Day</td>\n",
       "      <td>RH-9495111</td>\n",
       "      <td>Rick Hansen</td>\n",
       "      <td>Consumer</td>\n",
       "      <td>Dakar</td>\n",
       "      <td>Dakar</td>\n",
       "      <td>...</td>\n",
       "      <td>Africa</td>\n",
       "      <td>TEC-CO-6011</td>\n",
       "      <td>Technology</td>\n",
       "      <td>Copiers</td>\n",
       "      <td>Sharp Wireless Fax, High-Speed</td>\n",
       "      <td>2832.960</td>\n",
       "      <td>8</td>\n",
       "      <td>0.0</td>\n",
       "      <td>311.5200</td>\n",
       "      <td>903.040</td>\n",
       "    </tr>\n",
       "    <tr>\n",
       "      <th>...</th>\n",
       "      <td>...</td>\n",
       "      <td>...</td>\n",
       "      <td>...</td>\n",
       "      <td>...</td>\n",
       "      <td>...</td>\n",
       "      <td>...</td>\n",
       "      <td>...</td>\n",
       "      <td>...</td>\n",
       "      <td>...</td>\n",
       "      <td>...</td>\n",
       "      <td>...</td>\n",
       "      <td>...</td>\n",
       "      <td>...</td>\n",
       "      <td>...</td>\n",
       "      <td>...</td>\n",
       "      <td>...</td>\n",
       "      <td>...</td>\n",
       "      <td>...</td>\n",
       "      <td>...</td>\n",
       "      <td>...</td>\n",
       "      <td>...</td>\n",
       "    </tr>\n",
       "    <tr>\n",
       "      <th>51285</th>\n",
       "      <td>29002</td>\n",
       "      <td>IN-2015-KE1642066-42174</td>\n",
       "      <td>2015-06-19</td>\n",
       "      <td>2015-06-19</td>\n",
       "      <td>Same Day</td>\n",
       "      <td>KE-1642066</td>\n",
       "      <td>Katrina Edelman</td>\n",
       "      <td>Corporate</td>\n",
       "      <td>Kure</td>\n",
       "      <td>Hiroshima</td>\n",
       "      <td>...</td>\n",
       "      <td>Asia Pacific</td>\n",
       "      <td>OFF-FA-3072</td>\n",
       "      <td>Office Supplies</td>\n",
       "      <td>Fasteners</td>\n",
       "      <td>Advantus Thumb Tacks, 12 Pack</td>\n",
       "      <td>65.100</td>\n",
       "      <td>5</td>\n",
       "      <td>0.0</td>\n",
       "      <td>4.5000</td>\n",
       "      <td>1.010</td>\n",
       "    </tr>\n",
       "    <tr>\n",
       "      <th>51286</th>\n",
       "      <td>34337</td>\n",
       "      <td>US-2014-ZD21925140-41765</td>\n",
       "      <td>2014-05-06</td>\n",
       "      <td>2014-05-10</td>\n",
       "      <td>Standard Class</td>\n",
       "      <td>ZD-219251408</td>\n",
       "      <td>Zuschuss Donatelli</td>\n",
       "      <td>Consumer</td>\n",
       "      <td>Chattanooga</td>\n",
       "      <td>Tennessee</td>\n",
       "      <td>...</td>\n",
       "      <td>USCA</td>\n",
       "      <td>FUR-FU-4070</td>\n",
       "      <td>Furniture</td>\n",
       "      <td>Furnishings</td>\n",
       "      <td>Eldon Image Series Desk Accessories, Burgundy</td>\n",
       "      <td>16.720</td>\n",
       "      <td>5</td>\n",
       "      <td>0.2</td>\n",
       "      <td>3.3440</td>\n",
       "      <td>1.930</td>\n",
       "    </tr>\n",
       "    <tr>\n",
       "      <th>51287</th>\n",
       "      <td>31315</td>\n",
       "      <td>CA-2012-ZD21925140-41147</td>\n",
       "      <td>2012-08-26</td>\n",
       "      <td>2012-08-31</td>\n",
       "      <td>Second Class</td>\n",
       "      <td>ZD-219251404</td>\n",
       "      <td>Zuschuss Donatelli</td>\n",
       "      <td>Consumer</td>\n",
       "      <td>San Francisco</td>\n",
       "      <td>California</td>\n",
       "      <td>...</td>\n",
       "      <td>USCA</td>\n",
       "      <td>OFF-AR-5321</td>\n",
       "      <td>Office Supplies</td>\n",
       "      <td>Art</td>\n",
       "      <td>Newell 341</td>\n",
       "      <td>8.560</td>\n",
       "      <td>2</td>\n",
       "      <td>0.0</td>\n",
       "      <td>2.4824</td>\n",
       "      <td>1.580</td>\n",
       "    </tr>\n",
       "    <tr>\n",
       "      <th>51288</th>\n",
       "      <td>9596</td>\n",
       "      <td>MX-2013-RB1979518-41322</td>\n",
       "      <td>2013-02-17</td>\n",
       "      <td>2013-02-21</td>\n",
       "      <td>Standard Class</td>\n",
       "      <td>RB-1979518</td>\n",
       "      <td>Ross Baird</td>\n",
       "      <td>Home Office</td>\n",
       "      <td>Valinhos</td>\n",
       "      <td>São Paulo</td>\n",
       "      <td>...</td>\n",
       "      <td>LATAM</td>\n",
       "      <td>OFF-BI-2919</td>\n",
       "      <td>Office Supplies</td>\n",
       "      <td>Binders</td>\n",
       "      <td>Acco Index Tab, Economy</td>\n",
       "      <td>13.440</td>\n",
       "      <td>2</td>\n",
       "      <td>0.0</td>\n",
       "      <td>2.4000</td>\n",
       "      <td>1.003</td>\n",
       "    </tr>\n",
       "    <tr>\n",
       "      <th>51289</th>\n",
       "      <td>6147</td>\n",
       "      <td>MX-2013-MC1810093-41416</td>\n",
       "      <td>2013-05-22</td>\n",
       "      <td>2013-05-26</td>\n",
       "      <td>Second Class</td>\n",
       "      <td>MC-1810093</td>\n",
       "      <td>Mick Crebagga</td>\n",
       "      <td>Consumer</td>\n",
       "      <td>Tipitapa</td>\n",
       "      <td>Managua</td>\n",
       "      <td>...</td>\n",
       "      <td>LATAM</td>\n",
       "      <td>OFF-PA-3990</td>\n",
       "      <td>Office Supplies</td>\n",
       "      <td>Paper</td>\n",
       "      <td>Eaton Computer Printout Paper, 8.5 x 11</td>\n",
       "      <td>61.380</td>\n",
       "      <td>3</td>\n",
       "      <td>0.0</td>\n",
       "      <td>1.8000</td>\n",
       "      <td>1.002</td>\n",
       "    </tr>\n",
       "  </tbody>\n",
       "</table>\n",
       "<p>51290 rows × 21 columns</p>\n",
       "</div>"
      ],
      "text/plain": [
       "       Row ID                  Order ID Order Date  Ship Date       Ship Mode  \\\n",
       "0       40098  CA-2014-AB10015140-41954 2014-11-11 2014-11-13     First Class   \n",
       "1       26341    IN-2014-JR162107-41675 2014-02-05 2014-02-07    Second Class   \n",
       "2       25330    IN-2014-CR127307-41929 2014-10-17 2014-10-18     First Class   \n",
       "3       13524   ES-2014-KM1637548-41667 2014-01-28 2014-01-30     First Class   \n",
       "4       47221   SG-2014-RH9495111-41948 2014-11-05 2014-11-06        Same Day   \n",
       "...       ...                       ...        ...        ...             ...   \n",
       "51285   29002   IN-2015-KE1642066-42174 2015-06-19 2015-06-19        Same Day   \n",
       "51286   34337  US-2014-ZD21925140-41765 2014-05-06 2014-05-10  Standard Class   \n",
       "51287   31315  CA-2012-ZD21925140-41147 2012-08-26 2012-08-31    Second Class   \n",
       "51288    9596   MX-2013-RB1979518-41322 2013-02-17 2013-02-21  Standard Class   \n",
       "51289    6147   MX-2013-MC1810093-41416 2013-05-22 2013-05-26    Second Class   \n",
       "\n",
       "        Customer ID       Customer Name      Segment           City  \\\n",
       "0      AB-100151402       Aaron Bergman     Consumer  Oklahoma City   \n",
       "1         JR-162107       Justin Ritter    Corporate     Wollongong   \n",
       "2         CR-127307        Craig Reiter     Consumer       Brisbane   \n",
       "3        KM-1637548    Katherine Murray  Home Office         Berlin   \n",
       "4        RH-9495111         Rick Hansen     Consumer          Dakar   \n",
       "...             ...                 ...          ...            ...   \n",
       "51285    KE-1642066     Katrina Edelman    Corporate           Kure   \n",
       "51286  ZD-219251408  Zuschuss Donatelli     Consumer    Chattanooga   \n",
       "51287  ZD-219251404  Zuschuss Donatelli     Consumer  San Francisco   \n",
       "51288    RB-1979518          Ross Baird  Home Office       Valinhos   \n",
       "51289    MC-1810093       Mick Crebagga     Consumer       Tipitapa   \n",
       "\n",
       "                 State  ...        Market   Product ID         Category  \\\n",
       "0             Oklahoma  ...          USCA  TEC-PH-5816       Technology   \n",
       "1      New South Wales  ...  Asia Pacific  FUR-CH-5379        Furniture   \n",
       "2           Queensland  ...  Asia Pacific  TEC-PH-5356       Technology   \n",
       "3               Berlin  ...        Europe  TEC-PH-5267       Technology   \n",
       "4                Dakar  ...        Africa  TEC-CO-6011       Technology   \n",
       "...                ...  ...           ...          ...              ...   \n",
       "51285        Hiroshima  ...  Asia Pacific  OFF-FA-3072  Office Supplies   \n",
       "51286        Tennessee  ...          USCA  FUR-FU-4070        Furniture   \n",
       "51287       California  ...          USCA  OFF-AR-5321  Office Supplies   \n",
       "51288        São Paulo  ...         LATAM  OFF-BI-2919  Office Supplies   \n",
       "51289          Managua  ...         LATAM  OFF-PA-3990  Office Supplies   \n",
       "\n",
       "      Sub-Category                                   Product Name     Sales  \\\n",
       "0           Phones                               Samsung Convoy 3   221.980   \n",
       "1           Chairs      Novimex Executive Leather Armchair, Black  3709.395   \n",
       "2           Phones              Nokia Smart Phone, with Caller ID  5175.171   \n",
       "3           Phones                 Motorola Smart Phone, Cordless  2892.510   \n",
       "4          Copiers                 Sharp Wireless Fax, High-Speed  2832.960   \n",
       "...            ...                                            ...       ...   \n",
       "51285    Fasteners                  Advantus Thumb Tacks, 12 Pack    65.100   \n",
       "51286  Furnishings  Eldon Image Series Desk Accessories, Burgundy    16.720   \n",
       "51287          Art                                     Newell 341     8.560   \n",
       "51288      Binders                        Acco Index Tab, Economy    13.440   \n",
       "51289        Paper        Eaton Computer Printout Paper, 8.5 x 11    61.380   \n",
       "\n",
       "       Quantity  Discount    Profit  Shipping Cost  \n",
       "0             2       0.0   62.1544         40.770  \n",
       "1             9       0.1 -288.7650        923.630  \n",
       "2             9       0.1  919.9710        915.490  \n",
       "3             5       0.1  -96.5400        910.160  \n",
       "4             8       0.0  311.5200        903.040  \n",
       "...         ...       ...       ...            ...  \n",
       "51285         5       0.0    4.5000          1.010  \n",
       "51286         5       0.2    3.3440          1.930  \n",
       "51287         2       0.0    2.4824          1.580  \n",
       "51288         2       0.0    2.4000          1.003  \n",
       "51289         3       0.0    1.8000          1.002  \n",
       "\n",
       "[51290 rows x 21 columns]"
      ]
     },
     "execution_count": 3,
     "metadata": {},
     "output_type": "execute_result"
    }
   ],
   "source": [
    "df = pd.read_excel(\"Global Superstore Orders 2016_1.xlsx\",sheet_name=\"Orders\")\n",
    "df"
   ]
  },
  {
   "cell_type": "code",
   "execution_count": 3,
   "id": "58e0f8fd",
   "metadata": {},
   "outputs": [
    {
     "data": {
      "text/html": [
       "<div>\n",
       "<style scoped>\n",
       "    .dataframe tbody tr th:only-of-type {\n",
       "        vertical-align: middle;\n",
       "    }\n",
       "\n",
       "    .dataframe tbody tr th {\n",
       "        vertical-align: top;\n",
       "    }\n",
       "\n",
       "    .dataframe thead th {\n",
       "        text-align: right;\n",
       "    }\n",
       "</style>\n",
       "<table border=\"1\" class=\"dataframe\">\n",
       "  <thead>\n",
       "    <tr style=\"text-align: right;\">\n",
       "      <th></th>\n",
       "      <th>Row ID</th>\n",
       "      <th>Order ID</th>\n",
       "      <th>Order Date</th>\n",
       "      <th>Ship Date</th>\n",
       "      <th>Ship Mode</th>\n",
       "      <th>Customer ID</th>\n",
       "      <th>Customer Name</th>\n",
       "      <th>Segment</th>\n",
       "      <th>City</th>\n",
       "      <th>State</th>\n",
       "      <th>...</th>\n",
       "      <th>Market</th>\n",
       "      <th>Product ID</th>\n",
       "      <th>Category</th>\n",
       "      <th>Sub-Category</th>\n",
       "      <th>Product Name</th>\n",
       "      <th>Sales</th>\n",
       "      <th>Quantity</th>\n",
       "      <th>Discount</th>\n",
       "      <th>Profit</th>\n",
       "      <th>Shipping Cost</th>\n",
       "    </tr>\n",
       "  </thead>\n",
       "  <tbody>\n",
       "    <tr>\n",
       "      <th>0</th>\n",
       "      <td>40098</td>\n",
       "      <td>CA-2014-AB10015140-41954</td>\n",
       "      <td>2014-11-11</td>\n",
       "      <td>2014-11-13</td>\n",
       "      <td>First Class</td>\n",
       "      <td>AB-100151402</td>\n",
       "      <td>Aaron Bergman</td>\n",
       "      <td>Consumer</td>\n",
       "      <td>Oklahoma City</td>\n",
       "      <td>Oklahoma</td>\n",
       "      <td>...</td>\n",
       "      <td>USCA</td>\n",
       "      <td>TEC-PH-5816</td>\n",
       "      <td>Technology</td>\n",
       "      <td>Phones</td>\n",
       "      <td>Samsung Convoy 3</td>\n",
       "      <td>221.980</td>\n",
       "      <td>2</td>\n",
       "      <td>0.0</td>\n",
       "      <td>62.1544</td>\n",
       "      <td>40.77</td>\n",
       "    </tr>\n",
       "    <tr>\n",
       "      <th>1</th>\n",
       "      <td>26341</td>\n",
       "      <td>IN-2014-JR162107-41675</td>\n",
       "      <td>2014-02-05</td>\n",
       "      <td>2014-02-07</td>\n",
       "      <td>Second Class</td>\n",
       "      <td>JR-162107</td>\n",
       "      <td>Justin Ritter</td>\n",
       "      <td>Corporate</td>\n",
       "      <td>Wollongong</td>\n",
       "      <td>New South Wales</td>\n",
       "      <td>...</td>\n",
       "      <td>Asia Pacific</td>\n",
       "      <td>FUR-CH-5379</td>\n",
       "      <td>Furniture</td>\n",
       "      <td>Chairs</td>\n",
       "      <td>Novimex Executive Leather Armchair, Black</td>\n",
       "      <td>3709.395</td>\n",
       "      <td>9</td>\n",
       "      <td>0.1</td>\n",
       "      <td>-288.7650</td>\n",
       "      <td>923.63</td>\n",
       "    </tr>\n",
       "    <tr>\n",
       "      <th>2</th>\n",
       "      <td>25330</td>\n",
       "      <td>IN-2014-CR127307-41929</td>\n",
       "      <td>2014-10-17</td>\n",
       "      <td>2014-10-18</td>\n",
       "      <td>First Class</td>\n",
       "      <td>CR-127307</td>\n",
       "      <td>Craig Reiter</td>\n",
       "      <td>Consumer</td>\n",
       "      <td>Brisbane</td>\n",
       "      <td>Queensland</td>\n",
       "      <td>...</td>\n",
       "      <td>Asia Pacific</td>\n",
       "      <td>TEC-PH-5356</td>\n",
       "      <td>Technology</td>\n",
       "      <td>Phones</td>\n",
       "      <td>Nokia Smart Phone, with Caller ID</td>\n",
       "      <td>5175.171</td>\n",
       "      <td>9</td>\n",
       "      <td>0.1</td>\n",
       "      <td>919.9710</td>\n",
       "      <td>915.49</td>\n",
       "    </tr>\n",
       "    <tr>\n",
       "      <th>3</th>\n",
       "      <td>13524</td>\n",
       "      <td>ES-2014-KM1637548-41667</td>\n",
       "      <td>2014-01-28</td>\n",
       "      <td>2014-01-30</td>\n",
       "      <td>First Class</td>\n",
       "      <td>KM-1637548</td>\n",
       "      <td>Katherine Murray</td>\n",
       "      <td>Home Office</td>\n",
       "      <td>Berlin</td>\n",
       "      <td>Berlin</td>\n",
       "      <td>...</td>\n",
       "      <td>Europe</td>\n",
       "      <td>TEC-PH-5267</td>\n",
       "      <td>Technology</td>\n",
       "      <td>Phones</td>\n",
       "      <td>Motorola Smart Phone, Cordless</td>\n",
       "      <td>2892.510</td>\n",
       "      <td>5</td>\n",
       "      <td>0.1</td>\n",
       "      <td>-96.5400</td>\n",
       "      <td>910.16</td>\n",
       "    </tr>\n",
       "    <tr>\n",
       "      <th>4</th>\n",
       "      <td>47221</td>\n",
       "      <td>SG-2014-RH9495111-41948</td>\n",
       "      <td>2014-11-05</td>\n",
       "      <td>2014-11-06</td>\n",
       "      <td>Same Day</td>\n",
       "      <td>RH-9495111</td>\n",
       "      <td>Rick Hansen</td>\n",
       "      <td>Consumer</td>\n",
       "      <td>Dakar</td>\n",
       "      <td>Dakar</td>\n",
       "      <td>...</td>\n",
       "      <td>Africa</td>\n",
       "      <td>TEC-CO-6011</td>\n",
       "      <td>Technology</td>\n",
       "      <td>Copiers</td>\n",
       "      <td>Sharp Wireless Fax, High-Speed</td>\n",
       "      <td>2832.960</td>\n",
       "      <td>8</td>\n",
       "      <td>0.0</td>\n",
       "      <td>311.5200</td>\n",
       "      <td>903.04</td>\n",
       "    </tr>\n",
       "  </tbody>\n",
       "</table>\n",
       "<p>5 rows × 21 columns</p>\n",
       "</div>"
      ],
      "text/plain": [
       "   Row ID                  Order ID Order Date  Ship Date     Ship Mode  \\\n",
       "0   40098  CA-2014-AB10015140-41954 2014-11-11 2014-11-13   First Class   \n",
       "1   26341    IN-2014-JR162107-41675 2014-02-05 2014-02-07  Second Class   \n",
       "2   25330    IN-2014-CR127307-41929 2014-10-17 2014-10-18   First Class   \n",
       "3   13524   ES-2014-KM1637548-41667 2014-01-28 2014-01-30   First Class   \n",
       "4   47221   SG-2014-RH9495111-41948 2014-11-05 2014-11-06      Same Day   \n",
       "\n",
       "    Customer ID     Customer Name      Segment           City  \\\n",
       "0  AB-100151402     Aaron Bergman     Consumer  Oklahoma City   \n",
       "1     JR-162107     Justin Ritter    Corporate     Wollongong   \n",
       "2     CR-127307      Craig Reiter     Consumer       Brisbane   \n",
       "3    KM-1637548  Katherine Murray  Home Office         Berlin   \n",
       "4    RH-9495111       Rick Hansen     Consumer          Dakar   \n",
       "\n",
       "             State  ...        Market   Product ID    Category Sub-Category  \\\n",
       "0         Oklahoma  ...          USCA  TEC-PH-5816  Technology       Phones   \n",
       "1  New South Wales  ...  Asia Pacific  FUR-CH-5379   Furniture       Chairs   \n",
       "2       Queensland  ...  Asia Pacific  TEC-PH-5356  Technology       Phones   \n",
       "3           Berlin  ...        Europe  TEC-PH-5267  Technology       Phones   \n",
       "4            Dakar  ...        Africa  TEC-CO-6011  Technology      Copiers   \n",
       "\n",
       "                                Product Name     Sales  Quantity  Discount  \\\n",
       "0                           Samsung Convoy 3   221.980         2       0.0   \n",
       "1  Novimex Executive Leather Armchair, Black  3709.395         9       0.1   \n",
       "2          Nokia Smart Phone, with Caller ID  5175.171         9       0.1   \n",
       "3             Motorola Smart Phone, Cordless  2892.510         5       0.1   \n",
       "4             Sharp Wireless Fax, High-Speed  2832.960         8       0.0   \n",
       "\n",
       "     Profit  Shipping Cost  \n",
       "0   62.1544          40.77  \n",
       "1 -288.7650         923.63  \n",
       "2  919.9710         915.49  \n",
       "3  -96.5400         910.16  \n",
       "4  311.5200         903.04  \n",
       "\n",
       "[5 rows x 21 columns]"
      ]
     },
     "execution_count": 3,
     "metadata": {},
     "output_type": "execute_result"
    }
   ],
   "source": [
    "df.head()"
   ]
  },
  {
   "cell_type": "code",
   "execution_count": 4,
   "id": "7e510a48",
   "metadata": {},
   "outputs": [
    {
     "data": {
      "text/plain": [
       "(51290, 21)"
      ]
     },
     "execution_count": 4,
     "metadata": {},
     "output_type": "execute_result"
    }
   ],
   "source": [
    "df.shape"
   ]
  },
  {
   "cell_type": "code",
   "execution_count": 5,
   "id": "e903a244",
   "metadata": {},
   "outputs": [
    {
     "name": "stdout",
     "output_type": "stream",
     "text": [
      "<class 'pandas.core.frame.DataFrame'>\n",
      "RangeIndex: 51290 entries, 0 to 51289\n",
      "Data columns (total 21 columns):\n",
      " #   Column         Non-Null Count  Dtype         \n",
      "---  ------         --------------  -----         \n",
      " 0   Row ID         51290 non-null  int64         \n",
      " 1   Order ID       51290 non-null  object        \n",
      " 2   Order Date     51290 non-null  datetime64[ns]\n",
      " 3   Ship Date      51290 non-null  datetime64[ns]\n",
      " 4   Ship Mode      51290 non-null  object        \n",
      " 5   Customer ID    51290 non-null  object        \n",
      " 6   Customer Name  51290 non-null  object        \n",
      " 7   Segment        51290 non-null  object        \n",
      " 8   City           51290 non-null  object        \n",
      " 9   State          51290 non-null  object        \n",
      " 10  Country        51290 non-null  object        \n",
      " 11  Market         51290 non-null  object        \n",
      " 12  Product ID     51290 non-null  object        \n",
      " 13  Category       51290 non-null  object        \n",
      " 14  Sub-Category   51290 non-null  object        \n",
      " 15  Product Name   51290 non-null  object        \n",
      " 16  Sales          51290 non-null  float64       \n",
      " 17  Quantity       51290 non-null  int64         \n",
      " 18  Discount       51290 non-null  float64       \n",
      " 19  Profit         51290 non-null  float64       \n",
      " 20  Shipping Cost  51290 non-null  float64       \n",
      "dtypes: datetime64[ns](2), float64(4), int64(2), object(13)\n",
      "memory usage: 8.2+ MB\n"
     ]
    }
   ],
   "source": [
    "df.info()"
   ]
  },
  {
   "cell_type": "code",
   "execution_count": 6,
   "id": "8442bbbf",
   "metadata": {},
   "outputs": [
    {
     "data": {
      "text/html": [
       "<div>\n",
       "<style scoped>\n",
       "    .dataframe tbody tr th:only-of-type {\n",
       "        vertical-align: middle;\n",
       "    }\n",
       "\n",
       "    .dataframe tbody tr th {\n",
       "        vertical-align: top;\n",
       "    }\n",
       "\n",
       "    .dataframe thead th {\n",
       "        text-align: right;\n",
       "    }\n",
       "</style>\n",
       "<table border=\"1\" class=\"dataframe\">\n",
       "  <thead>\n",
       "    <tr style=\"text-align: right;\">\n",
       "      <th></th>\n",
       "      <th>Row ID</th>\n",
       "      <th>Sales</th>\n",
       "      <th>Quantity</th>\n",
       "      <th>Discount</th>\n",
       "      <th>Profit</th>\n",
       "      <th>Shipping Cost</th>\n",
       "    </tr>\n",
       "  </thead>\n",
       "  <tbody>\n",
       "    <tr>\n",
       "      <th>count</th>\n",
       "      <td>51290.00000</td>\n",
       "      <td>51290.000000</td>\n",
       "      <td>51290.000000</td>\n",
       "      <td>51290.000000</td>\n",
       "      <td>51290.000000</td>\n",
       "      <td>51290.000000</td>\n",
       "    </tr>\n",
       "    <tr>\n",
       "      <th>mean</th>\n",
       "      <td>25645.50000</td>\n",
       "      <td>246.490581</td>\n",
       "      <td>3.476545</td>\n",
       "      <td>0.142908</td>\n",
       "      <td>28.610982</td>\n",
       "      <td>26.478567</td>\n",
       "    </tr>\n",
       "    <tr>\n",
       "      <th>std</th>\n",
       "      <td>14806.29199</td>\n",
       "      <td>487.565361</td>\n",
       "      <td>2.278766</td>\n",
       "      <td>0.212280</td>\n",
       "      <td>174.340972</td>\n",
       "      <td>57.251373</td>\n",
       "    </tr>\n",
       "    <tr>\n",
       "      <th>min</th>\n",
       "      <td>1.00000</td>\n",
       "      <td>0.444000</td>\n",
       "      <td>1.000000</td>\n",
       "      <td>0.000000</td>\n",
       "      <td>-6599.978000</td>\n",
       "      <td>1.002000</td>\n",
       "    </tr>\n",
       "    <tr>\n",
       "      <th>25%</th>\n",
       "      <td>12823.25000</td>\n",
       "      <td>30.758625</td>\n",
       "      <td>2.000000</td>\n",
       "      <td>0.000000</td>\n",
       "      <td>0.000000</td>\n",
       "      <td>2.610000</td>\n",
       "    </tr>\n",
       "    <tr>\n",
       "      <th>50%</th>\n",
       "      <td>25645.50000</td>\n",
       "      <td>85.053000</td>\n",
       "      <td>3.000000</td>\n",
       "      <td>0.000000</td>\n",
       "      <td>9.240000</td>\n",
       "      <td>7.790000</td>\n",
       "    </tr>\n",
       "    <tr>\n",
       "      <th>75%</th>\n",
       "      <td>38467.75000</td>\n",
       "      <td>251.053200</td>\n",
       "      <td>5.000000</td>\n",
       "      <td>0.200000</td>\n",
       "      <td>36.810000</td>\n",
       "      <td>24.450000</td>\n",
       "    </tr>\n",
       "    <tr>\n",
       "      <th>max</th>\n",
       "      <td>51290.00000</td>\n",
       "      <td>22638.480000</td>\n",
       "      <td>14.000000</td>\n",
       "      <td>0.850000</td>\n",
       "      <td>8399.976000</td>\n",
       "      <td>933.570000</td>\n",
       "    </tr>\n",
       "  </tbody>\n",
       "</table>\n",
       "</div>"
      ],
      "text/plain": [
       "            Row ID         Sales      Quantity      Discount        Profit  \\\n",
       "count  51290.00000  51290.000000  51290.000000  51290.000000  51290.000000   \n",
       "mean   25645.50000    246.490581      3.476545      0.142908     28.610982   \n",
       "std    14806.29199    487.565361      2.278766      0.212280    174.340972   \n",
       "min        1.00000      0.444000      1.000000      0.000000  -6599.978000   \n",
       "25%    12823.25000     30.758625      2.000000      0.000000      0.000000   \n",
       "50%    25645.50000     85.053000      3.000000      0.000000      9.240000   \n",
       "75%    38467.75000    251.053200      5.000000      0.200000     36.810000   \n",
       "max    51290.00000  22638.480000     14.000000      0.850000   8399.976000   \n",
       "\n",
       "       Shipping Cost  \n",
       "count   51290.000000  \n",
       "mean       26.478567  \n",
       "std        57.251373  \n",
       "min         1.002000  \n",
       "25%         2.610000  \n",
       "50%         7.790000  \n",
       "75%        24.450000  \n",
       "max       933.570000  "
      ]
     },
     "execution_count": 6,
     "metadata": {},
     "output_type": "execute_result"
    }
   ],
   "source": [
    "df.describe()"
   ]
  },
  {
   "cell_type": "markdown",
   "id": "c43f6a6b",
   "metadata": {},
   "source": [
    "# What is the highest amount of profit in the dataset"
   ]
  },
  {
   "cell_type": "code",
   "execution_count": 7,
   "id": "2457e92e",
   "metadata": {},
   "outputs": [
    {
     "data": {
      "text/plain": [
       "8399.975999999999"
      ]
     },
     "execution_count": 7,
     "metadata": {},
     "output_type": "execute_result"
    }
   ],
   "source": [
    "df[\"Profit\"].max()  "
   ]
  },
  {
   "cell_type": "markdown",
   "id": "d22a8664",
   "metadata": {},
   "source": [
    "# What is the lowest amount of profit in the dataset"
   ]
  },
  {
   "cell_type": "code",
   "execution_count": 79,
   "id": "9a135baa",
   "metadata": {},
   "outputs": [
    {
     "data": {
      "text/plain": [
       "-6599.978000000001"
      ]
     },
     "execution_count": 79,
     "metadata": {},
     "output_type": "execute_result"
    }
   ],
   "source": [
    "df[\"Profit\"].min()        "
   ]
  },
  {
   "cell_type": "markdown",
   "id": "7e9b205c",
   "metadata": {},
   "source": [
    "# How many state in the dataset"
   ]
  },
  {
   "cell_type": "code",
   "execution_count": 9,
   "id": "551bad5d",
   "metadata": {},
   "outputs": [
    {
     "data": {
      "text/plain": [
       "1102"
      ]
     },
     "execution_count": 9,
     "metadata": {},
     "output_type": "execute_result"
    }
   ],
   "source": [
    "df[\"State\"].value_counts().count()"
   ]
  },
  {
   "cell_type": "markdown",
   "id": "b0fb8e14",
   "metadata": {},
   "source": [
    "# Find the Total Profit of india in country column"
   ]
  },
  {
   "cell_type": "code",
   "execution_count": 10,
   "id": "9a45e362",
   "metadata": {},
   "outputs": [
    {
     "data": {
      "text/plain": [
       "129050.59500000006"
      ]
     },
     "execution_count": 10,
     "metadata": {},
     "output_type": "execute_result"
    }
   ],
   "source": [
    "sum(df[df[\"Country\"]==\"India\"][\"Profit\"])    "
   ]
  },
  {
   "cell_type": "markdown",
   "id": "8d2ec6af",
   "metadata": {},
   "source": [
    "# Orders in market according to country"
   ]
  },
  {
   "cell_type": "code",
   "execution_count": 11,
   "id": "50799266",
   "metadata": {},
   "outputs": [
    {
     "data": {
      "text/plain": [
       "Market  Country                         \n",
       "Africa  Nigeria                              905\n",
       "        Egypt                                487\n",
       "        South Africa                         457\n",
       "        Morocco                              451\n",
       "        Democratic Republic of the Congo     379\n",
       "                                            ... \n",
       "LATAM   Belize                                 2\n",
       "        French Guiana                          2\n",
       "        Suriname                               1\n",
       "USCA    United States                       9994\n",
       "        Canada                               384\n",
       "Name: Country, Length: 165, dtype: int64"
      ]
     },
     "execution_count": 11,
     "metadata": {},
     "output_type": "execute_result"
    }
   ],
   "source": [
    "df.groupby(\"Market\").Country.value_counts()    "
   ]
  },
  {
   "cell_type": "markdown",
   "id": "fb94f40b",
   "metadata": {},
   "source": [
    "# How many sub category in the dataset"
   ]
  },
  {
   "cell_type": "code",
   "execution_count": 12,
   "id": "98a4b5fa",
   "metadata": {},
   "outputs": [
    {
     "data": {
      "text/plain": [
       "51290"
      ]
     },
     "execution_count": 12,
     "metadata": {},
     "output_type": "execute_result"
    }
   ],
   "source": [
    "df[\"Sub-Category\"].value_counts().sum()      "
   ]
  },
  {
   "cell_type": "markdown",
   "id": "fb3d8b9a",
   "metadata": {},
   "source": [
    "# Total profit of Accessories in sub category column"
   ]
  },
  {
   "cell_type": "code",
   "execution_count": 13,
   "id": "1c120f26",
   "metadata": {},
   "outputs": [
    {
     "data": {
      "text/plain": [
       "129626.30619999953"
      ]
     },
     "execution_count": 13,
     "metadata": {},
     "output_type": "execute_result"
    }
   ],
   "source": [
    "sum(df[df[\"Sub-Category\"]==\"Accessories\"][\"Profit\"])   "
   ]
  },
  {
   "cell_type": "markdown",
   "id": "61345a40",
   "metadata": {},
   "source": [
    "# What are the sub category of given customer id KE-1642066"
   ]
  },
  {
   "cell_type": "code",
   "execution_count": 14,
   "id": "f9d3e26f",
   "metadata": {},
   "outputs": [
    {
     "data": {
      "text/plain": [
       "1552        Chairs\n",
       "38912       Labels\n",
       "47961        Paper\n",
       "51285    Fasteners\n",
       "Name: Sub-Category, dtype: object"
      ]
     },
     "execution_count": 14,
     "metadata": {},
     "output_type": "execute_result"
    }
   ],
   "source": [
    "df[df[\"Customer ID\"]==\"KE-1642066\"][\"Sub-Category\"]    "
   ]
  },
  {
   "cell_type": "markdown",
   "id": "d17f4325",
   "metadata": {},
   "source": [
    "# What was the average of Profit and Sales according to Sub Categories"
   ]
  },
  {
   "cell_type": "code",
   "execution_count": 15,
   "id": "733ca5ba",
   "metadata": {},
   "outputs": [
    {
     "data": {
      "text/html": [
       "<div>\n",
       "<style scoped>\n",
       "    .dataframe tbody tr th:only-of-type {\n",
       "        vertical-align: middle;\n",
       "    }\n",
       "\n",
       "    .dataframe tbody tr th {\n",
       "        vertical-align: top;\n",
       "    }\n",
       "\n",
       "    .dataframe thead th {\n",
       "        text-align: right;\n",
       "    }\n",
       "</style>\n",
       "<table border=\"1\" class=\"dataframe\">\n",
       "  <thead>\n",
       "    <tr style=\"text-align: right;\">\n",
       "      <th></th>\n",
       "      <th>Profit</th>\n",
       "      <th>Sales</th>\n",
       "    </tr>\n",
       "    <tr>\n",
       "      <th>Sub-Category</th>\n",
       "      <th></th>\n",
       "      <th></th>\n",
       "    </tr>\n",
       "  </thead>\n",
       "  <tbody>\n",
       "    <tr>\n",
       "      <th>Accessories</th>\n",
       "      <td>42.154896</td>\n",
       "      <td>243.654315</td>\n",
       "    </tr>\n",
       "    <tr>\n",
       "      <th>Appliances</th>\n",
       "      <td>81.264402</td>\n",
       "      <td>580.100761</td>\n",
       "    </tr>\n",
       "    <tr>\n",
       "      <th>Art</th>\n",
       "      <td>11.889363</td>\n",
       "      <td>76.400731</td>\n",
       "    </tr>\n",
       "    <tr>\n",
       "      <th>Binders</th>\n",
       "      <td>11.785414</td>\n",
       "      <td>75.149592</td>\n",
       "    </tr>\n",
       "    <tr>\n",
       "      <th>Bookcases</th>\n",
       "      <td>67.160688</td>\n",
       "      <td>608.283800</td>\n",
       "    </tr>\n",
       "    <tr>\n",
       "      <th>Chairs</th>\n",
       "      <td>40.884178</td>\n",
       "      <td>437.298126</td>\n",
       "    </tr>\n",
       "    <tr>\n",
       "      <th>Copiers</th>\n",
       "      <td>116.314687</td>\n",
       "      <td>679.008670</td>\n",
       "    </tr>\n",
       "    <tr>\n",
       "      <th>Envelopes</th>\n",
       "      <td>12.086086</td>\n",
       "      <td>70.891282</td>\n",
       "    </tr>\n",
       "    <tr>\n",
       "      <th>Fasteners</th>\n",
       "      <td>5.322679</td>\n",
       "      <td>34.407938</td>\n",
       "    </tr>\n",
       "    <tr>\n",
       "      <th>Furnishings</th>\n",
       "      <td>14.852705</td>\n",
       "      <td>122.116667</td>\n",
       "    </tr>\n",
       "    <tr>\n",
       "      <th>Labels</th>\n",
       "      <td>5.762754</td>\n",
       "      <td>28.200798</td>\n",
       "    </tr>\n",
       "    <tr>\n",
       "      <th>Machines</th>\n",
       "      <td>39.614989</td>\n",
       "      <td>524.266532</td>\n",
       "    </tr>\n",
       "    <tr>\n",
       "      <th>Paper</th>\n",
       "      <td>16.641367</td>\n",
       "      <td>69.240414</td>\n",
       "    </tr>\n",
       "    <tr>\n",
       "      <th>Phones</th>\n",
       "      <td>64.556749</td>\n",
       "      <td>508.437337</td>\n",
       "    </tr>\n",
       "    <tr>\n",
       "      <th>Storage</th>\n",
       "      <td>21.472902</td>\n",
       "      <td>223.175474</td>\n",
       "    </tr>\n",
       "    <tr>\n",
       "      <th>Supplies</th>\n",
       "      <td>9.372329</td>\n",
       "      <td>100.877080</td>\n",
       "    </tr>\n",
       "    <tr>\n",
       "      <th>Tables</th>\n",
       "      <td>-74.429023</td>\n",
       "      <td>879.258913</td>\n",
       "    </tr>\n",
       "  </tbody>\n",
       "</table>\n",
       "</div>"
      ],
      "text/plain": [
       "                  Profit       Sales\n",
       "Sub-Category                        \n",
       "Accessories    42.154896  243.654315\n",
       "Appliances     81.264402  580.100761\n",
       "Art            11.889363   76.400731\n",
       "Binders        11.785414   75.149592\n",
       "Bookcases      67.160688  608.283800\n",
       "Chairs         40.884178  437.298126\n",
       "Copiers       116.314687  679.008670\n",
       "Envelopes      12.086086   70.891282\n",
       "Fasteners       5.322679   34.407938\n",
       "Furnishings    14.852705  122.116667\n",
       "Labels          5.762754   28.200798\n",
       "Machines       39.614989  524.266532\n",
       "Paper          16.641367   69.240414\n",
       "Phones         64.556749  508.437337\n",
       "Storage        21.472902  223.175474\n",
       "Supplies        9.372329  100.877080\n",
       "Tables        -74.429023  879.258913"
      ]
     },
     "execution_count": 15,
     "metadata": {},
     "output_type": "execute_result"
    }
   ],
   "source": [
    "data = df.groupby(\"Sub-Category\")[\"Profit\",\"Sales\"].mean()\n",
    "data"
   ]
  },
  {
   "cell_type": "markdown",
   "id": "a3e610ed",
   "metadata": {},
   "source": [
    "# Extracting the order year from order date column"
   ]
  },
  {
   "cell_type": "code",
   "execution_count": 5,
   "id": "86780078",
   "metadata": {},
   "outputs": [
    {
     "data": {
      "text/plain": [
       "0        2014\n",
       "1        2014\n",
       "2        2014\n",
       "3        2014\n",
       "4        2014\n",
       "         ... \n",
       "51285    2015\n",
       "51286    2014\n",
       "51287    2012\n",
       "51288    2013\n",
       "51289    2013\n",
       "Name: Year, Length: 51290, dtype: int64"
      ]
     },
     "execution_count": 5,
     "metadata": {},
     "output_type": "execute_result"
    }
   ],
   "source": [
    "df[\"Year\"]=df[\"Order Date\"].dt.year           \n",
    "df[\"Year\"]"
   ]
  },
  {
   "cell_type": "markdown",
   "id": "25f595a2",
   "metadata": {},
   "source": [
    "# Extracting the order month from order date column"
   ]
  },
  {
   "cell_type": "code",
   "execution_count": 80,
   "id": "af5d9a6f",
   "metadata": {},
   "outputs": [
    {
     "data": {
      "text/plain": [
       "0        11\n",
       "1         2\n",
       "2        10\n",
       "3         1\n",
       "4        11\n",
       "         ..\n",
       "51285     6\n",
       "51286     5\n",
       "51287     8\n",
       "51288     2\n",
       "51289     5\n",
       "Name: Month, Length: 51290, dtype: int64"
      ]
     },
     "execution_count": 80,
     "metadata": {},
     "output_type": "execute_result"
    }
   ],
   "source": [
    "df[\"Month\"]=df[\"Order Date\"].dt.month            \n",
    "df[\"Month\"]"
   ]
  },
  {
   "cell_type": "markdown",
   "id": "4003575e",
   "metadata": {},
   "source": [
    "# Extracting the order day from order date column"
   ]
  },
  {
   "cell_type": "code",
   "execution_count": 7,
   "id": "e0bac573",
   "metadata": {},
   "outputs": [
    {
     "data": {
      "text/plain": [
       "0        11\n",
       "1         5\n",
       "2        17\n",
       "3        28\n",
       "4         5\n",
       "         ..\n",
       "51285    19\n",
       "51286     6\n",
       "51287    26\n",
       "51288    17\n",
       "51289    22\n",
       "Name: Day, Length: 51290, dtype: int64"
      ]
     },
     "execution_count": 7,
     "metadata": {},
     "output_type": "execute_result"
    }
   ],
   "source": [
    "df[\"Day\"]=df[\"Order Date\"].dt.day\n",
    "df[\"Day\"]"
   ]
  },
  {
   "cell_type": "markdown",
   "id": "8f222a13",
   "metadata": {},
   "source": [
    "# Bar plot of sub category"
   ]
  },
  {
   "cell_type": "code",
   "execution_count": 20,
   "id": "800681c1",
   "metadata": {},
   "outputs": [
    {
     "data": {
      "image/png": "[encoded data removed]",
      "text/plain": [
       "<Figure size 1440x720 with 1 Axes>"
      ]
     },
     "metadata": {
      "needs_background": "light"
     },
     "output_type": "display_data"
    }
   ],
   "source": [
    "plt.figure(figsize=(20,10))\n",
    "df[\"Sub-Category\"].value_counts().plot.bar()\n",
    "plt.show()"
   ]
  },
  {
   "cell_type": "markdown",
   "id": "a705fd37",
   "metadata": {},
   "source": [
    "# distribution of categories"
   ]
  },
  {
   "cell_type": "code",
   "execution_count": 21,
   "id": "662e2f98",
   "metadata": {},
   "outputs": [
    {
     "data": {
      "image/png": "[encoded data removed]",
      "text/plain": [
       "<Figure size 1440x720 with 1 Axes>"
      ]
     },
     "metadata": {},
     "output_type": "display_data"
    }
   ],
   "source": [
    "plt.figure(figsize=(20,10))\n",
    "df[\"Category\"].value_counts().plot.pie(autopct=\"%1.1f%%\",explode=(0,0.1,0))\n",
    "\n",
    "plt.show()"
   ]
  },
  {
   "cell_type": "markdown",
   "id": "7cdb3c24",
   "metadata": {},
   "source": [
    "# How many Category in dataset"
   ]
  },
  {
   "cell_type": "code",
   "execution_count": 81,
   "id": "b79958b3",
   "metadata": {},
   "outputs": [
    {
     "data": {
      "text/plain": [
       "3"
      ]
     },
     "execution_count": 81,
     "metadata": {},
     "output_type": "execute_result"
    }
   ],
   "source": [
    "df[\"Category\"].value_counts().count()"
   ]
  },
  {
   "cell_type": "markdown",
   "id": "6bfd79d6",
   "metadata": {},
   "source": [
    "# How many unique value in segment"
   ]
  },
  {
   "cell_type": "code",
   "execution_count": 122,
   "id": "205d2491",
   "metadata": {},
   "outputs": [
    {
     "data": {
      "text/plain": [
       "Consumer       26518\n",
       "Corporate      15429\n",
       "Home Office     9343\n",
       "Name: Segment, dtype: int64"
      ]
     },
     "execution_count": 122,
     "metadata": {},
     "output_type": "execute_result"
    }
   ],
   "source": [
    "df[\"Segment\"].value_counts()"
   ]
  },
  {
   "cell_type": "code",
   "execution_count": null,
   "id": "366dce0e",
   "metadata": {},
   "outputs": [],
   "source": []
  },
  {
   "cell_type": "code",
   "execution_count": 132,
   "id": "d9555509",
   "metadata": {},
   "outputs": [
    {
     "data": {
      "image/png": "[encoded data removed]",
      "text/plain": [
       "<Figure size 1080x720 with 1 Axes>"
      ]
     },
     "metadata": {
      "needs_background": "light"
     },
     "output_type": "display_data"
    }
   ],
   "source": [
    "plt.figure(figsize=(15,10))\n",
    "plt.bar(\"Category\",\"Profit\",data=df)\n",
    "plt.xlabel(\"Category\")\n",
    "plt.ylabel(\"Profit\")\n",
    "plt.show()"
   ]
  },
  {
   "cell_type": "markdown",
   "id": "ec319645",
   "metadata": {},
   "source": [
    "# What was the total sales of per year"
   ]
  },
  {
   "cell_type": "code",
   "execution_count": 11,
   "id": "5a815f8d",
   "metadata": {},
   "outputs": [
    {
     "data": {
      "text/plain": [
       "Year\n",
       "2012    2.259451e+06\n",
       "2013    2.677439e+06\n",
       "2014    3.405746e+06\n",
       "2015    4.299866e+06\n",
       "Name: Sales, dtype: float64"
      ]
     },
     "execution_count": 11,
     "metadata": {},
     "output_type": "execute_result"
    }
   ],
   "source": [
    "df.groupby(\"Year\")[\"Sales\"].sum()"
   ]
  },
  {
   "cell_type": "markdown",
   "id": "b9cd2769",
   "metadata": {},
   "source": [
    "# hist plot of sales per year"
   ]
  },
  {
   "cell_type": "code",
   "execution_count": 14,
   "id": "a86057d1",
   "metadata": {},
   "outputs": [
    {
     "data": {
      "image/png": "[encoded data removed]",
      "text/plain": [
       "<Figure size 432x288 with 1 Axes>"
      ]
     },
     "metadata": {
      "needs_background": "light"
     },
     "output_type": "display_data"
    }
   ],
   "source": [
    "df[\"Year\"].hist(bins=10)\n",
    "plt.title(\"Yearly sale\")\n",
    "plt.xlabel(\"Year\")\n",
    "plt.ylabel(\"Sales\")\n",
    "plt.show()"
   ]
  },
  {
   "cell_type": "markdown",
   "id": "ae0569cc",
   "metadata": {},
   "source": [
    "# Which Sub category is most popular in which city"
   ]
  },
  {
   "cell_type": "code",
   "execution_count": 76,
   "id": "2e9da821",
   "metadata": {},
   "outputs": [
    {
     "data": {
      "text/html": [
       "<div>\n",
       "<style scoped>\n",
       "    .dataframe tbody tr th:only-of-type {\n",
       "        vertical-align: middle;\n",
       "    }\n",
       "\n",
       "    .dataframe tbody tr th {\n",
       "        vertical-align: top;\n",
       "    }\n",
       "\n",
       "    .dataframe thead th {\n",
       "        text-align: right;\n",
       "    }\n",
       "</style>\n",
       "<table border=\"1\" class=\"dataframe\">\n",
       "  <thead>\n",
       "    <tr style=\"text-align: right;\">\n",
       "      <th></th>\n",
       "      <th></th>\n",
       "      <th></th>\n",
       "    </tr>\n",
       "    <tr>\n",
       "      <th>Sub-Category</th>\n",
       "      <th>City</th>\n",
       "      <th>Quantity</th>\n",
       "    </tr>\n",
       "  </thead>\n",
       "  <tbody>\n",
       "    <tr>\n",
       "      <th rowspan=\"5\" valign=\"top\">Accessories</th>\n",
       "      <th>Abadan</th>\n",
       "      <th>2</th>\n",
       "    </tr>\n",
       "    <tr>\n",
       "      <th rowspan=\"2\" valign=\"top\">Abidjan</th>\n",
       "      <th>1</th>\n",
       "    </tr>\n",
       "    <tr>\n",
       "      <th>2</th>\n",
       "    </tr>\n",
       "    <tr>\n",
       "      <th>Abu Kabir</th>\n",
       "      <th>1</th>\n",
       "    </tr>\n",
       "    <tr>\n",
       "      <th>Accra</th>\n",
       "      <th>2</th>\n",
       "    </tr>\n",
       "    <tr>\n",
       "      <th>...</th>\n",
       "      <th>...</th>\n",
       "      <th>...</th>\n",
       "    </tr>\n",
       "    <tr>\n",
       "      <th rowspan=\"5\" valign=\"top\">Tables</th>\n",
       "      <th>Yuci</th>\n",
       "      <th>6</th>\n",
       "    </tr>\n",
       "    <tr>\n",
       "      <th>Yulin</th>\n",
       "      <th>1</th>\n",
       "    </tr>\n",
       "    <tr>\n",
       "      <th>Yunyang</th>\n",
       "      <th>2</th>\n",
       "    </tr>\n",
       "    <tr>\n",
       "      <th>Zapopan</th>\n",
       "      <th>3</th>\n",
       "    </tr>\n",
       "    <tr>\n",
       "      <th>Zaria</th>\n",
       "      <th>8</th>\n",
       "    </tr>\n",
       "  </tbody>\n",
       "</table>\n",
       "<p>36503 rows × 0 columns</p>\n",
       "</div>"
      ],
      "text/plain": [
       "Empty DataFrame\n",
       "Columns: []\n",
       "Index: [(Accessories, Abadan, 2), (Accessories, Abidjan, 1), (Accessories, Abidjan, 2), (Accessories, Abu Kabir, 1), (Accessories, Accra, 2), (Accessories, Accra, 10), (Accessories, Acerra, 5), (Accessories, Acuña, 5), (Accessories, Adana, 1), (Accessories, Adelaide, 2), (Accessories, Adelaide, 3), (Accessories, Adelaide, 4), (Accessories, Adelaide, 5), (Accessories, Adelaide, 6), (Accessories, Adelaide, 9), (Accessories, Agadir, 1), (Accessories, Agra, 2), (Accessories, Agra, 4), (Accessories, Agra, 9), (Accessories, Ahvaz, 1), (Accessories, Aix-en-Provence, 1), (Accessories, Ajmer, 2), (Accessories, Akhisar, 1), (Accessories, Akron, 3), (Accessories, Akron, 5), (Accessories, Al Hillah, 2), (Accessories, Al Hufuf, 4), (Accessories, Al Mubarraz, 1), (Accessories, Alanya, 1), (Accessories, Albacete, 3), (Accessories, Albany, 3), (Accessories, Albuquerque, 5), (Accessories, Albury, 1), (Accessories, Albury, 4), (Accessories, Albury, 8), (Accessories, Alexandria, 1), (Accessories, Alexandria, 4), (Accessories, Alexandria, 8), (Accessories, Algiers, 1), (Accessories, Allahabad, 1), (Accessories, Allen, 3), (Accessories, Allentown, 4), (Accessories, Altamura, 7), (Accessories, Amadora, 9), (Accessories, Amarillo, 3), (Accessories, Amersfoort, 3), (Accessories, Amman, 4), (Accessories, Amritsar, 6), (Accessories, Amsterdam, 2), (Accessories, Amsterdam, 3), (Accessories, Amsterdam, 8), (Accessories, An Nasiriyah, 1), (Accessories, Anaheim, 4), (Accessories, Angarsk, 1), (Accessories, Angers, 5), (Accessories, Ankara, 1), (Accessories, Ankara, 2), (Accessories, Ankara, 4), (Accessories, Ankara, 6), (Accessories, Ann Arbor, 5), (Accessories, Annaba, 1), (Accessories, Annaba, 4), (Accessories, Annecy, 7), (Accessories, Annemasse, 5), (Accessories, Anshan, 5), (Accessories, Antakya, 6), (Accessories, Antalya, 1), (Accessories, Antananarivo, 2), (Accessories, Antipolo, 3), (Accessories, Antipolo, 4), (Accessories, Antofagasta, 4), (Accessories, Antony, 5), (Accessories, Antwerp, 3), (Accessories, Antwerp, 4), (Accessories, Anyang, 3), (Accessories, Aoba-ku, 1), (Accessories, Apeldoorn, 2), (Accessories, Apodaca, 3), (Accessories, Apopa, 3), (Accessories, Apopa, 5), (Accessories, Apopa, 6), (Accessories, Apopa, 9), (Accessories, Appleton, 5), (Accessories, Aracaju, 2), (Accessories, Araguaína, 2), (Accessories, Arak, 1), (Accessories, Araranguá, 2), (Accessories, Arbil, 1), (Accessories, Arcoverde, 3), (Accessories, Ardabil, 1), (Accessories, Ardabil, 2), (Accessories, Ardabil, 4), (Accessories, Arica, 7), (Accessories, Arles, 2), (Accessories, Arlington, 2), (Accessories, Arlington, 3), (Accessories, Armidale, 7), (Accessories, Arraiján, 1), (Accessories, Arraiján, 2), (Accessories, Arraiján, 4), ...]\n",
       "\n",
       "[36503 rows x 0 columns]"
      ]
     },
     "execution_count": 76,
     "metadata": {},
     "output_type": "execute_result"
    }
   ],
   "source": [
    "df[[\"Sub-Category\",\"City\",\"Quantity\"]].groupby([\"Sub-Category\",\"City\",\"Quantity\"]).sum()"
   ]
  },
  {
   "cell_type": "markdown",
   "id": "659118d7",
   "metadata": {},
   "source": [
    "# What is the highest amount of Shipping cost in the dataset"
   ]
  },
  {
   "cell_type": "code",
   "execution_count": 25,
   "id": "74a3f8cd",
   "metadata": {},
   "outputs": [
    {
     "data": {
      "text/plain": [
       "933.57"
      ]
     },
     "execution_count": 25,
     "metadata": {},
     "output_type": "execute_result"
    }
   ],
   "source": [
    "df[\"Shipping Cost\"].max()"
   ]
  },
  {
   "cell_type": "markdown",
   "id": "c95d6d54",
   "metadata": {},
   "source": [
    "# What is the lowest amount of shipping cost in the dataset"
   ]
  },
  {
   "cell_type": "code",
   "execution_count": 24,
   "id": "e00f0740",
   "metadata": {},
   "outputs": [
    {
     "data": {
      "text/plain": [
       "1.002"
      ]
     },
     "execution_count": 24,
     "metadata": {},
     "output_type": "execute_result"
    }
   ],
   "source": [
    "df[\"Shipping Cost\"].min()"
   ]
  },
  {
   "cell_type": "markdown",
   "id": "6080d7e3",
   "metadata": {},
   "source": [
    "# How many unique value in a ship mode"
   ]
  },
  {
   "cell_type": "code",
   "execution_count": 82,
   "id": "6b82e7c1",
   "metadata": {},
   "outputs": [
    {
     "data": {
      "text/plain": [
       "Standard Class    30775\n",
       "Second Class      10309\n",
       "First Class        7505\n",
       "Same Day           2701\n",
       "Name: Ship Mode, dtype: int64"
      ]
     },
     "execution_count": 82,
     "metadata": {},
     "output_type": "execute_result"
    }
   ],
   "source": [
    "df[\"Ship Mode\"].value_counts()"
   ]
  },
  {
   "cell_type": "code",
   "execution_count": 3,
   "id": "980d2b8c",
   "metadata": {},
   "outputs": [
    {
     "data": {
      "image/png": "[encoded data removed]",
      "text/plain": [
       "<Figure size 1440x720 with 1 Axes>"
      ]
     },
     "metadata": {
      "needs_background": "light"
     },
     "output_type": "display_data"
    }
   ],
   "source": [
    "plt.figure(figsize=(20,10))\n",
    "df[\"Ship Mode\"].value_counts().plot.bar()\n",
    "plt.xlabel(\"Ship Mode\")\n",
    "plt.ylabel(\"Sales\")\n",
    "plt.show()"
   ]
  },
  {
   "cell_type": "markdown",
   "id": "37e5e437",
   "metadata": {},
   "source": [
    "# Distplot of sales"
   ]
  },
  {
   "cell_type": "code",
   "execution_count": 40,
   "id": "e1a07706",
   "metadata": {},
   "outputs": [
    {
     "data": {
      "image/png": "[encoded data removed]",
      "text/plain": [
       "<Figure size 432x288 with 1 Axes>"
      ]
     },
     "metadata": {
      "needs_background": "light"
     },
     "output_type": "display_data"
    }
   ],
   "source": [
    "sns.distplot(df[\"Sales\"])\n",
    "plt.show()"
   ]
  },
  {
   "cell_type": "markdown",
   "id": "fe3e71ce",
   "metadata": {},
   "source": [
    "# Distplot of profit"
   ]
  },
  {
   "cell_type": "code",
   "execution_count": 41,
   "id": "a03a83ae",
   "metadata": {},
   "outputs": [
    {
     "data": {
      "image/png": "[encoded data removed]",
      "text/plain": [
       "<Figure size 432x288 with 1 Axes>"
      ]
     },
     "metadata": {
      "needs_background": "light"
     },
     "output_type": "display_data"
    }
   ],
   "source": [
    "sns.distplot(df[\"Profit\"])\n",
    "plt.show()"
   ]
  },
  {
   "cell_type": "markdown",
   "id": "94df39b2",
   "metadata": {},
   "source": [
    "# distplot of Shipping cost"
   ]
  },
  {
   "cell_type": "code",
   "execution_count": 133,
   "id": "6abd255f",
   "metadata": {},
   "outputs": [
    {
     "data": {
      "image/png": "[encoded data removed]",
      "text/plain": [
       "<Figure size 432x288 with 1 Axes>"
      ]
     },
     "metadata": {
      "needs_background": "light"
     },
     "output_type": "display_data"
    }
   ],
   "source": [
    "sns.distplot(df[\"Shipping Cost\"])\n",
    "plt.show()"
   ]
  },
  {
   "cell_type": "markdown",
   "id": "bbc37255",
   "metadata": {},
   "source": [
    "# Countplot of sub category"
   ]
  },
  {
   "cell_type": "code",
   "execution_count": 43,
   "id": "010e1150",
   "metadata": {},
   "outputs": [
    {
     "data": {
      "image/png": "[encoded data removed]",
      "text/plain": [
       "<Figure size 864x576 with 1 Axes>"
      ]
     },
     "metadata": {
      "needs_background": "light"
     },
     "output_type": "display_data"
    }
   ],
   "source": [
    "plt.figure(figsize=(12,8))\n",
    "sns.countplot(data=df, y=\"Sub-Category\")\n",
    "plt.grid(True)"
   ]
  },
  {
   "cell_type": "markdown",
   "id": "aa264242",
   "metadata": {},
   "source": [
    "# Pie plot of sub category"
   ]
  },
  {
   "cell_type": "code",
   "execution_count": 45,
   "id": "8bcfa423",
   "metadata": {},
   "outputs": [
    {
     "data": {
      "image/png": "[encoded data removed]",
      "text/plain": [
       "<Figure size 1440x720 with 1 Axes>"
      ]
     },
     "metadata": {},
     "output_type": "display_data"
    }
   ],
   "source": [
    "plt.figure(figsize=(20,10))\n",
    "df[\"Sub-Category\"].value_counts().plot.pie(autopct=\"%1.1f%%\")\n",
    "plt.show()"
   ]
  },
  {
   "cell_type": "code",
   "execution_count": 48,
   "id": "3483efed",
   "metadata": {},
   "outputs": [
    {
     "data": {
      "text/html": [
       "<div>\n",
       "<style scoped>\n",
       "    .dataframe tbody tr th:only-of-type {\n",
       "        vertical-align: middle;\n",
       "    }\n",
       "\n",
       "    .dataframe tbody tr th {\n",
       "        vertical-align: top;\n",
       "    }\n",
       "\n",
       "    .dataframe thead th {\n",
       "        text-align: right;\n",
       "    }\n",
       "</style>\n",
       "<table border=\"1\" class=\"dataframe\">\n",
       "  <thead>\n",
       "    <tr style=\"text-align: right;\">\n",
       "      <th></th>\n",
       "      <th>Row ID</th>\n",
       "      <th>Sales</th>\n",
       "      <th>Quantity</th>\n",
       "      <th>Discount</th>\n",
       "      <th>Profit</th>\n",
       "      <th>Shipping Cost</th>\n",
       "      <th>Year</th>\n",
       "      <th>Month</th>\n",
       "      <th>Day</th>\n",
       "    </tr>\n",
       "  </thead>\n",
       "  <tbody>\n",
       "    <tr>\n",
       "      <th>Row ID</th>\n",
       "      <td>1.000000</td>\n",
       "      <td>-0.043889</td>\n",
       "      <td>-0.173483</td>\n",
       "      <td>0.087594</td>\n",
       "      <td>-0.019037</td>\n",
       "      <td>-0.038431</td>\n",
       "      <td>-0.000921</td>\n",
       "      <td>-0.028987</td>\n",
       "      <td>-0.006609</td>\n",
       "    </tr>\n",
       "    <tr>\n",
       "      <th>Sales</th>\n",
       "      <td>-0.043889</td>\n",
       "      <td>1.000000</td>\n",
       "      <td>0.313577</td>\n",
       "      <td>-0.086722</td>\n",
       "      <td>0.484918</td>\n",
       "      <td>0.767835</td>\n",
       "      <td>-0.002905</td>\n",
       "      <td>0.001851</td>\n",
       "      <td>0.001658</td>\n",
       "    </tr>\n",
       "    <tr>\n",
       "      <th>Quantity</th>\n",
       "      <td>-0.173483</td>\n",
       "      <td>0.313577</td>\n",
       "      <td>1.000000</td>\n",
       "      <td>-0.019875</td>\n",
       "      <td>0.104365</td>\n",
       "      <td>0.271804</td>\n",
       "      <td>-0.005049</td>\n",
       "      <td>0.020646</td>\n",
       "      <td>0.003831</td>\n",
       "    </tr>\n",
       "    <tr>\n",
       "      <th>Discount</th>\n",
       "      <td>0.087594</td>\n",
       "      <td>-0.086722</td>\n",
       "      <td>-0.019875</td>\n",
       "      <td>1.000000</td>\n",
       "      <td>-0.316490</td>\n",
       "      <td>-0.078153</td>\n",
       "      <td>-0.005894</td>\n",
       "      <td>-0.000180</td>\n",
       "      <td>-0.004290</td>\n",
       "    </tr>\n",
       "    <tr>\n",
       "      <th>Profit</th>\n",
       "      <td>-0.019037</td>\n",
       "      <td>0.484918</td>\n",
       "      <td>0.104365</td>\n",
       "      <td>-0.316490</td>\n",
       "      <td>1.000000</td>\n",
       "      <td>0.354423</td>\n",
       "      <td>0.002626</td>\n",
       "      <td>0.000173</td>\n",
       "      <td>-0.002721</td>\n",
       "    </tr>\n",
       "    <tr>\n",
       "      <th>Shipping Cost</th>\n",
       "      <td>-0.038431</td>\n",
       "      <td>0.767835</td>\n",
       "      <td>0.271804</td>\n",
       "      <td>-0.078153</td>\n",
       "      <td>0.354423</td>\n",
       "      <td>1.000000</td>\n",
       "      <td>-0.003135</td>\n",
       "      <td>0.004956</td>\n",
       "      <td>0.004825</td>\n",
       "    </tr>\n",
       "    <tr>\n",
       "      <th>Year</th>\n",
       "      <td>-0.000921</td>\n",
       "      <td>-0.002905</td>\n",
       "      <td>-0.005049</td>\n",
       "      <td>-0.005894</td>\n",
       "      <td>0.002626</td>\n",
       "      <td>-0.003135</td>\n",
       "      <td>1.000000</td>\n",
       "      <td>-0.011016</td>\n",
       "      <td>-0.001365</td>\n",
       "    </tr>\n",
       "    <tr>\n",
       "      <th>Month</th>\n",
       "      <td>-0.028987</td>\n",
       "      <td>0.001851</td>\n",
       "      <td>0.020646</td>\n",
       "      <td>-0.000180</td>\n",
       "      <td>0.000173</td>\n",
       "      <td>0.004956</td>\n",
       "      <td>-0.011016</td>\n",
       "      <td>1.000000</td>\n",
       "      <td>0.001875</td>\n",
       "    </tr>\n",
       "    <tr>\n",
       "      <th>Day</th>\n",
       "      <td>-0.006609</td>\n",
       "      <td>0.001658</td>\n",
       "      <td>0.003831</td>\n",
       "      <td>-0.004290</td>\n",
       "      <td>-0.002721</td>\n",
       "      <td>0.004825</td>\n",
       "      <td>-0.001365</td>\n",
       "      <td>0.001875</td>\n",
       "      <td>1.000000</td>\n",
       "    </tr>\n",
       "  </tbody>\n",
       "</table>\n",
       "</div>"
      ],
      "text/plain": [
       "                 Row ID     Sales  Quantity  Discount    Profit  \\\n",
       "Row ID         1.000000 -0.043889 -0.173483  0.087594 -0.019037   \n",
       "Sales         -0.043889  1.000000  0.313577 -0.086722  0.484918   \n",
       "Quantity      -0.173483  0.313577  1.000000 -0.019875  0.104365   \n",
       "Discount       0.087594 -0.086722 -0.019875  1.000000 -0.316490   \n",
       "Profit        -0.019037  0.484918  0.104365 -0.316490  1.000000   \n",
       "Shipping Cost -0.038431  0.767835  0.271804 -0.078153  0.354423   \n",
       "Year          -0.000921 -0.002905 -0.005049 -0.005894  0.002626   \n",
       "Month         -0.028987  0.001851  0.020646 -0.000180  0.000173   \n",
       "Day           -0.006609  0.001658  0.003831 -0.004290 -0.002721   \n",
       "\n",
       "               Shipping Cost      Year     Month       Day  \n",
       "Row ID             -0.038431 -0.000921 -0.028987 -0.006609  \n",
       "Sales               0.767835 -0.002905  0.001851  0.001658  \n",
       "Quantity            0.271804 -0.005049  0.020646  0.003831  \n",
       "Discount           -0.078153 -0.005894 -0.000180 -0.004290  \n",
       "Profit              0.354423  0.002626  0.000173 -0.002721  \n",
       "Shipping Cost       1.000000 -0.003135  0.004956  0.004825  \n",
       "Year               -0.003135  1.000000 -0.011016 -0.001365  \n",
       "Month               0.004956 -0.011016  1.000000  0.001875  \n",
       "Day                 0.004825 -0.001365  0.001875  1.000000  "
      ]
     },
     "execution_count": 48,
     "metadata": {},
     "output_type": "execute_result"
    }
   ],
   "source": [
    "df.corr()"
   ]
  },
  {
   "cell_type": "code",
   "execution_count": 50,
   "id": "c45e13c1",
   "metadata": {},
   "outputs": [
    {
     "data": {
      "image/png": "[encoded data removed]",
      "text/plain": [
       "<Figure size 1440x720 with 2 Axes>"
      ]
     },
     "metadata": {
      "needs_background": "light"
     },
     "output_type": "display_data"
    }
   ],
   "source": [
    "plt.figure(figsize=(20,10))\n",
    "sns.heatmap(df.corr(), annot=True, cmap=\"Blues\")\n",
    "plt.show()"
   ]
  },
  {
   "cell_type": "code",
   "execution_count": 112,
   "id": "922ed90b",
   "metadata": {},
   "outputs": [
    {
     "data": {
      "image/png": "[encoded data removed]",
      "text/plain": [
       "<Figure size 720x720 with 1 Axes>"
      ]
     },
     "metadata": {
      "needs_background": "light"
     },
     "output_type": "display_data"
    }
   ],
   "source": [
    "plt.figure(figsize=(10,10))\n",
    "sns.scatterplot(data=df, x=\"Sales\", y =\"Profit\", hue=\"Category\")\n",
    "plt.show()"
   ]
  },
  {
   "cell_type": "markdown",
   "id": "bf9348ab",
   "metadata": {},
   "source": [
    "# What is the name of highest profit gain person "
   ]
  },
  {
   "cell_type": "code",
   "execution_count": 90,
   "id": "f1d327f0",
   "metadata": {},
   "outputs": [
    {
     "data": {
      "text/html": [
       "<div>\n",
       "<style scoped>\n",
       "    .dataframe tbody tr th:only-of-type {\n",
       "        vertical-align: middle;\n",
       "    }\n",
       "\n",
       "    .dataframe tbody tr th {\n",
       "        vertical-align: top;\n",
       "    }\n",
       "\n",
       "    .dataframe thead th {\n",
       "        text-align: right;\n",
       "    }\n",
       "</style>\n",
       "<table border=\"1\" class=\"dataframe\">\n",
       "  <thead>\n",
       "    <tr style=\"text-align: right;\">\n",
       "      <th></th>\n",
       "      <th>Row ID</th>\n",
       "      <th>Order ID</th>\n",
       "      <th>Order Date</th>\n",
       "      <th>Ship Date</th>\n",
       "      <th>Ship Mode</th>\n",
       "      <th>Customer ID</th>\n",
       "      <th>Customer Name</th>\n",
       "      <th>Segment</th>\n",
       "      <th>City</th>\n",
       "      <th>State</th>\n",
       "      <th>...</th>\n",
       "      <th>Sub-Category</th>\n",
       "      <th>Product Name</th>\n",
       "      <th>Sales</th>\n",
       "      <th>Quantity</th>\n",
       "      <th>Discount</th>\n",
       "      <th>Profit</th>\n",
       "      <th>Shipping Cost</th>\n",
       "      <th>Year</th>\n",
       "      <th>Month</th>\n",
       "      <th>Day</th>\n",
       "    </tr>\n",
       "  </thead>\n",
       "  <tbody>\n",
       "    <tr>\n",
       "      <th>49003</th>\n",
       "      <td>38123</td>\n",
       "      <td>CA-2014-TC20980140-41915</td>\n",
       "      <td>2014-10-03</td>\n",
       "      <td>2014-10-10</td>\n",
       "      <td>Standard Class</td>\n",
       "      <td>TC-209801402</td>\n",
       "      <td>Tamara Chand</td>\n",
       "      <td>Corporate</td>\n",
       "      <td>Lafayette</td>\n",
       "      <td>Indiana</td>\n",
       "      <td>...</td>\n",
       "      <td>Copiers</td>\n",
       "      <td>Canon imageCLASS 2200 Advanced Copier</td>\n",
       "      <td>17499.95</td>\n",
       "      <td>5</td>\n",
       "      <td>0.0</td>\n",
       "      <td>8399.976</td>\n",
       "      <td>349.07</td>\n",
       "      <td>2014</td>\n",
       "      <td>10</td>\n",
       "      <td>3</td>\n",
       "    </tr>\n",
       "  </tbody>\n",
       "</table>\n",
       "<p>1 rows × 24 columns</p>\n",
       "</div>"
      ],
      "text/plain": [
       "       Row ID                  Order ID Order Date  Ship Date       Ship Mode  \\\n",
       "49003   38123  CA-2014-TC20980140-41915 2014-10-03 2014-10-10  Standard Class   \n",
       "\n",
       "        Customer ID Customer Name    Segment       City    State  ...  \\\n",
       "49003  TC-209801402  Tamara Chand  Corporate  Lafayette  Indiana  ...   \n",
       "\n",
       "      Sub-Category                           Product Name     Sales Quantity  \\\n",
       "49003      Copiers  Canon imageCLASS 2200 Advanced Copier  17499.95        5   \n",
       "\n",
       "      Discount    Profit  Shipping Cost  Year  Month  Day  \n",
       "49003      0.0  8399.976         349.07  2014     10    3  \n",
       "\n",
       "[1 rows x 24 columns]"
      ]
     },
     "execution_count": 90,
     "metadata": {},
     "output_type": "execute_result"
    }
   ],
   "source": [
    "df.sort_values(\"Profit\",ascending=False).head(1)"
   ]
  },
  {
   "cell_type": "markdown",
   "id": "bc8122ea",
   "metadata": {},
   "source": [
    "# What is the name of lowest profit gain person "
   ]
  },
  {
   "cell_type": "code",
   "execution_count": 92,
   "id": "89d2618f",
   "metadata": {},
   "outputs": [
    {
     "data": {
      "text/html": [
       "<div>\n",
       "<style scoped>\n",
       "    .dataframe tbody tr th:only-of-type {\n",
       "        vertical-align: middle;\n",
       "    }\n",
       "\n",
       "    .dataframe tbody tr th {\n",
       "        vertical-align: top;\n",
       "    }\n",
       "\n",
       "    .dataframe thead th {\n",
       "        text-align: right;\n",
       "    }\n",
       "</style>\n",
       "<table border=\"1\" class=\"dataframe\">\n",
       "  <thead>\n",
       "    <tr style=\"text-align: right;\">\n",
       "      <th></th>\n",
       "      <th>Row ID</th>\n",
       "      <th>Order ID</th>\n",
       "      <th>Order Date</th>\n",
       "      <th>Ship Date</th>\n",
       "      <th>Ship Mode</th>\n",
       "      <th>Customer ID</th>\n",
       "      <th>Customer Name</th>\n",
       "      <th>Segment</th>\n",
       "      <th>City</th>\n",
       "      <th>State</th>\n",
       "      <th>...</th>\n",
       "      <th>Sub-Category</th>\n",
       "      <th>Product Name</th>\n",
       "      <th>Sales</th>\n",
       "      <th>Quantity</th>\n",
       "      <th>Discount</th>\n",
       "      <th>Profit</th>\n",
       "      <th>Shipping Cost</th>\n",
       "      <th>Year</th>\n",
       "      <th>Month</th>\n",
       "      <th>Day</th>\n",
       "    </tr>\n",
       "  </thead>\n",
       "  <tbody>\n",
       "    <tr>\n",
       "      <th>11755</th>\n",
       "      <td>39069</td>\n",
       "      <td>CA-2014-CS12505140-41969</td>\n",
       "      <td>2014-11-26</td>\n",
       "      <td>2014-12-03</td>\n",
       "      <td>Standard Class</td>\n",
       "      <td>CS-125051406</td>\n",
       "      <td>Cindy Stewart</td>\n",
       "      <td>Consumer</td>\n",
       "      <td>Lancaster</td>\n",
       "      <td>Ohio</td>\n",
       "      <td>...</td>\n",
       "      <td>Machines</td>\n",
       "      <td>Cubify CubeX 3D Printer Double Head Print</td>\n",
       "      <td>4499.985</td>\n",
       "      <td>5</td>\n",
       "      <td>0.7</td>\n",
       "      <td>-6599.978</td>\n",
       "      <td>451.63</td>\n",
       "      <td>2014</td>\n",
       "      <td>11</td>\n",
       "      <td>26</td>\n",
       "    </tr>\n",
       "  </tbody>\n",
       "</table>\n",
       "<p>1 rows × 24 columns</p>\n",
       "</div>"
      ],
      "text/plain": [
       "       Row ID                  Order ID Order Date  Ship Date       Ship Mode  \\\n",
       "11755   39069  CA-2014-CS12505140-41969 2014-11-26 2014-12-03  Standard Class   \n",
       "\n",
       "        Customer ID  Customer Name   Segment       City State  ...  \\\n",
       "11755  CS-125051406  Cindy Stewart  Consumer  Lancaster  Ohio  ...   \n",
       "\n",
       "      Sub-Category                               Product Name     Sales  \\\n",
       "11755     Machines  Cubify CubeX 3D Printer Double Head Print  4499.985   \n",
       "\n",
       "      Quantity Discount    Profit  Shipping Cost  Year  Month  Day  \n",
       "11755        5      0.7 -6599.978         451.63  2014     11   26  \n",
       "\n",
       "[1 rows x 24 columns]"
      ]
     },
     "execution_count": 92,
     "metadata": {},
     "output_type": "execute_result"
    }
   ],
   "source": [
    "df.sort_values(\"Profit\").head(1)"
   ]
  },
  {
   "cell_type": "markdown",
   "id": "ff81f4b2",
   "metadata": {},
   "source": [
    "# boxplot of sales according to sub category"
   ]
  },
  {
   "cell_type": "code",
   "execution_count": 105,
   "id": "bfb4b73f",
   "metadata": {},
   "outputs": [
    {
     "data": {
      "image/png": "[encoded data removed]",
      "text/plain": [
       "<Figure size 720x576 with 1 Axes>"
      ]
     },
     "metadata": {
      "needs_background": "light"
     },
     "output_type": "display_data"
    }
   ],
   "source": [
    "plt.figure(figsize=(10,8))\n",
    "sns.boxplot(data=df, x=\"Sales\", y=\"Sub-Category\")\n",
    "plt.show()"
   ]
  },
  {
   "cell_type": "markdown",
   "id": "ab80f789",
   "metadata": {},
   "source": [
    "# Boxplot of sales"
   ]
  },
  {
   "cell_type": "code",
   "execution_count": 106,
   "id": "168ef36a",
   "metadata": {},
   "outputs": [
    {
     "data": {
      "image/png": "[encoded data removed]",
      "text/plain": [
       "<Figure size 720x576 with 1 Axes>"
      ]
     },
     "metadata": {
      "needs_background": "light"
     },
     "output_type": "display_data"
    }
   ],
   "source": [
    "plt.figure(figsize=(10,8))\n",
    "sns.boxplot(data=df, x=\"Sales\")\n",
    "plt.show()"
   ]
  },
  {
   "cell_type": "markdown",
   "id": "de5a8376",
   "metadata": {},
   "source": [
    "# Boxplot of Profit"
   ]
  },
  {
   "cell_type": "code",
   "execution_count": 107,
   "id": "049a1138",
   "metadata": {},
   "outputs": [
    {
     "data": {
      "image/png": "[encoded data removed]",
      "text/plain": [
       "<Figure size 720x576 with 1 Axes>"
      ]
     },
     "metadata": {
      "needs_background": "light"
     },
     "output_type": "display_data"
    }
   ],
   "source": [
    "plt.figure(figsize=(10,8))\n",
    "sns.boxplot(data=df, x=\"Profit\")\n",
    "plt.show()"
   ]
  },
  {
   "cell_type": "code",
   "execution_count": 5,
   "id": "2f5e9d5b",
   "metadata": {},
   "outputs": [
    {
     "data": {
      "image/png": "[encoded data removed]",
      "text/plain": [
       "<Figure size 720x720 with 1 Axes>"
      ]
     },
     "metadata": {
      "needs_background": "light"
     },
     "output_type": "display_data"
    }
   ],
   "source": [
    "plt.figure(figsize=(10,10))\n",
    "df.Segment.value_counts().plot(kind=\"bar\")\n",
    "plt.title(\"Total sales\")\n",
    "plt.xlabel(\"Segment\")\n",
    "plt.ylabel(\"Sales\")\n",
    "plt.show()"
   ]
  },
  {
   "cell_type": "code",
   "execution_count": 130,
   "id": "565c92f8",
   "metadata": {},
   "outputs": [
    {
     "data": {
      "image/png": "[encoded data removed]",
      "text/plain": [
       "<Figure size 432x288 with 1 Axes>"
      ]
     },
     "metadata": {
      "needs_background": "light"
     },
     "output_type": "display_data"
    }
   ],
   "source": [
    "plt.scatter(x=df[\"Quantity\"], y=df[\"Sales\"], color=\"red\")\n",
    "plt.title(\"Scatter\")\n",
    "plt.xlabel(\"Quantity\")\n",
    "plt.ylabel(\"Sales\")\n",
    "plt.show()"
   ]
  },
  {
   "cell_type": "code",
   "execution_count": null,
   "id": "c5ba80d1",
   "metadata": {},
   "outputs": [],
   "source": []
  }
 ],
 "metadata": {
  "kernelspec": {
   "display_name": "Python 3",
   "language": "python",
   "name": "python3"
  },
  "language_info": {
   "codemirror_mode": {
    "name": "ipython",
    "version": 3
   },
   "file_extension": ".py",
   "mimetype": "text/x-python",
   "name": "python",
   "nbconvert_exporter": "python",
   "pygments_lexer": "ipython3",
   "version": "3.8.8"
  }
 },
 "nbformat": 4,
 "nbformat_minor": 5
}
